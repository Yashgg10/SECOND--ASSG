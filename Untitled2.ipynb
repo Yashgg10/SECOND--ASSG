{
 "cells": [
  {
   "cell_type": "markdown",
   "id": "4c967f4a-904d-465d-92b8-956d8720f5bd",
   "metadata": {},
   "source": [
    "Q1 ANS"
   ]
  },
  {
   "cell_type": "code",
   "execution_count": 1,
   "id": "4fa0d437-e855-468e-86fc-136865607a4e",
   "metadata": {},
   "outputs": [],
   "source": [
    "# String slicing is a method in Python used to extract parts of a string. \n",
    "# It allows you to obtain a substring from a string by specifying a range of indices. \n",
    "# The syntax for string slicing is:\n",
    "# string[start:stop:step]\n",
    "text = \"Hello, World!\"\n",
    "sl = text[7:12]  \n",
    "sl2 = text[:5]  \n",
    "sl3 = text[7:]  \n",
    "sl4 = text[-6:]  \n",
    "sl5 = text[:-7]   \n",
    "reversed_text = text[::-1]\n",
    "a = text[::2]"
   ]
  },
  {
   "cell_type": "code",
   "execution_count": 3,
   "id": "a63829f3-9e2b-4929-a0a8-2c39be5f1ed1",
   "metadata": {},
   "outputs": [
    {
     "data": {
      "text/plain": [
       "'World'"
      ]
     },
     "execution_count": 3,
     "metadata": {},
     "output_type": "execute_result"
    }
   ],
   "source": [
    "sl"
   ]
  },
  {
   "cell_type": "code",
   "execution_count": 4,
   "id": "2800179b-58ec-430c-b65f-a43b8c6b8b47",
   "metadata": {},
   "outputs": [
    {
     "data": {
      "text/plain": [
       "'Hello'"
      ]
     },
     "execution_count": 4,
     "metadata": {},
     "output_type": "execute_result"
    }
   ],
   "source": [
    "sl2"
   ]
  },
  {
   "cell_type": "code",
   "execution_count": 6,
   "id": "138c520a-c717-4dc0-b2f2-1afbd968234a",
   "metadata": {},
   "outputs": [
    {
     "data": {
      "text/plain": [
       "'World!'"
      ]
     },
     "execution_count": 6,
     "metadata": {},
     "output_type": "execute_result"
    }
   ],
   "source": [
    "sl3"
   ]
  },
  {
   "cell_type": "code",
   "execution_count": 7,
   "id": "bd0ffd23-e9ae-4d20-8a41-18d5014dab46",
   "metadata": {},
   "outputs": [
    {
     "data": {
      "text/plain": [
       "'World!'"
      ]
     },
     "execution_count": 7,
     "metadata": {},
     "output_type": "execute_result"
    }
   ],
   "source": [
    "sl4"
   ]
  },
  {
   "cell_type": "code",
   "execution_count": 8,
   "id": "0e1303f2-ddfb-4454-88e9-4fff53d38187",
   "metadata": {},
   "outputs": [
    {
     "data": {
      "text/plain": [
       "'Hello,'"
      ]
     },
     "execution_count": 8,
     "metadata": {},
     "output_type": "execute_result"
    }
   ],
   "source": [
    "sl5"
   ]
  },
  {
   "cell_type": "code",
   "execution_count": 9,
   "id": "4dd248eb-7749-4caa-96ae-4af6573bb3fd",
   "metadata": {},
   "outputs": [
    {
     "data": {
      "text/plain": [
       "'Hlo ol!'"
      ]
     },
     "execution_count": 9,
     "metadata": {},
     "output_type": "execute_result"
    }
   ],
   "source": [
    "a"
   ]
  },
  {
   "cell_type": "code",
   "execution_count": 10,
   "id": "ef699b7f-308b-4d85-b60b-ca6ba6049509",
   "metadata": {},
   "outputs": [
    {
     "data": {
      "text/plain": [
       "'!dlroW ,olleH'"
      ]
     },
     "execution_count": 10,
     "metadata": {},
     "output_type": "execute_result"
    }
   ],
   "source": [
    "reversed_text"
   ]
  },
  {
   "cell_type": "markdown",
   "id": "fd11de44-90c5-4c62-9b55-73b495701f13",
   "metadata": {},
   "source": [
    "Q2 AND Q3 ANS"
   ]
  },
  {
   "cell_type": "code",
   "execution_count": 11,
   "id": "86f61fc6-0250-4698-8d2c-c2653718a5b5",
   "metadata": {},
   "outputs": [
    {
     "name": "stdout",
     "output_type": "stream",
     "text": [
      "[1, 2, 3, 4, 5]\n"
     ]
    }
   ],
   "source": [
    "#ORDERED COLLECTION AND HETROGENOUS IN NATURE AND MUTABLE\n",
    "my_list = [1, 2, 3, 4, 5]\n",
    "print(my_list)"
   ]
  },
  {
   "cell_type": "code",
   "execution_count": 12,
   "id": "c66f33cc-fa58-4360-94a5-c319e0243078",
   "metadata": {},
   "outputs": [
    {
     "name": "stdout",
     "output_type": "stream",
     "text": [
      "[1, 2, 'wwe', [2, 3, 4]]\n"
     ]
    }
   ],
   "source": [
    "my_list = [1,2, \"wwe\", [2,3,4]]\n",
    "print(my_list)"
   ]
  },
  {
   "cell_type": "code",
   "execution_count": 13,
   "id": "2c8556ec-0a87-4c6f-9342-c3c1e8beb0d4",
   "metadata": {},
   "outputs": [
    {
     "data": {
      "text/plain": [
       "['pw', 2, 'wwe', [2, 3, 4]]"
      ]
     },
     "execution_count": 13,
     "metadata": {},
     "output_type": "execute_result"
    }
   ],
   "source": [
    "my_list[0] = \"pw\"\n",
    "my_list"
   ]
  },
  {
   "cell_type": "code",
   "execution_count": 15,
   "id": "d4170e7f-2471-4376-b5ce-42974f1c6888",
   "metadata": {},
   "outputs": [
    {
     "name": "stdout",
     "output_type": "stream",
     "text": [
      "['pw', 2, 'wwe', [2, 3, 4], 'a+', 'a+']\n",
      "['pw', 2, 'wwe', [2, 3, 4], 'a+']\n"
     ]
    }
   ],
   "source": [
    "#dynamic size\n",
    "my_list.append(\"a+\")\n",
    "print(my_list)\n",
    "my_list.pop()\n",
    "print(my_list)"
   ]
  },
  {
   "cell_type": "code",
   "execution_count": 16,
   "id": "5ca20102-4191-4736-bd6a-b0a33519259f",
   "metadata": {},
   "outputs": [
    {
     "name": "stdout",
     "output_type": "stream",
     "text": [
      "[2, 'wwe', [2, 3, 4]]\n"
     ]
    }
   ],
   "source": [
    "#suuports slicing and indexing\n",
    "print(my_list[1:4])"
   ]
  },
  {
   "cell_type": "code",
   "execution_count": 17,
   "id": "9c0640ee-e701-422c-b7d8-b7e5a1d87f0f",
   "metadata": {},
   "outputs": [
    {
     "name": "stdout",
     "output_type": "stream",
     "text": [
      "[0, 1, 4, 9, 16]\n"
     ]
    }
   ],
   "source": [
    "#LIST COMPREHENSION\n",
    "squares = [x**2 for x in range(5)]\n",
    "print(squares)"
   ]
  },
  {
   "cell_type": "code",
   "execution_count": 18,
   "id": "3f262c71-a9f6-47c8-ab44-34f2008ae285",
   "metadata": {},
   "outputs": [
    {
     "name": "stdout",
     "output_type": "stream",
     "text": [
      "[3, 1, 4, 1, 5, 9]\n",
      "[3, 4, 1, 5, 9]\n",
      "[1, 3, 4, 5, 9]\n",
      "[9, 5, 4, 3, 1]\n"
     ]
    }
   ],
   "source": [
    "#MULTIPLE BUILT IN METHODS\n",
    "my_list = [3, 1, 4, 1, 5]\n",
    "my_list.append(9) \n",
    "print(my_list)\n",
    "my_list.remove(1)\n",
    "print(my_list)\n",
    "my_list.sort()\n",
    "print(my_list)\n",
    "my_list.reverse() \n",
    "print(my_list)"
   ]
  },
  {
   "cell_type": "code",
   "execution_count": 19,
   "id": "9158bd62-8352-47f6-a9c3-1979b6570a0a",
   "metadata": {},
   "outputs": [
    {
     "name": "stdout",
     "output_type": "stream",
     "text": [
      "[9, 5, 3, 1]\n",
      "[9, 5, 1]\n"
     ]
    }
   ],
   "source": [
    "#del in list --> pop method done above\n",
    "del my_list[2]\n",
    "print(my_list)\n",
    "my_list.remove(3)\n",
    "print(my_list)"
   ]
  },
  {
   "cell_type": "markdown",
   "id": "ea62f8cf-073f-4584-b972-b45fca65d6c0",
   "metadata": {},
   "source": [
    "Q4 ANS-"
   ]
  },
  {
   "cell_type": "code",
   "execution_count": 22,
   "id": "8e84167d-5637-44f0-ad31-7502d5712ae5",
   "metadata": {},
   "outputs": [],
   "source": [
    "# MUTABLE\n",
    "a = [1,2,3,4,5] #list\n",
    "b = (1,2,3,4,5) #tuple"
   ]
  },
  {
   "cell_type": "code",
   "execution_count": 23,
   "id": "e4e689dd-900c-401d-85ea-f06d0ba157de",
   "metadata": {},
   "outputs": [
    {
     "data": {
      "text/plain": [
       "[1, 2, 3, 4, 5]"
      ]
     },
     "execution_count": 23,
     "metadata": {},
     "output_type": "execute_result"
    }
   ],
   "source": [
    "a"
   ]
  },
  {
   "cell_type": "code",
   "execution_count": 24,
   "id": "01e159e5-411d-4fd3-b851-3e1694d5ceec",
   "metadata": {},
   "outputs": [
    {
     "data": {
      "text/plain": [
       "(1, 2, 3, 4, 5)"
      ]
     },
     "execution_count": 24,
     "metadata": {},
     "output_type": "execute_result"
    }
   ],
   "source": [
    "b"
   ]
  },
  {
   "cell_type": "code",
   "execution_count": 25,
   "id": "b27f304a-2ca6-4d3b-8ebd-ec0a2b5e7538",
   "metadata": {},
   "outputs": [],
   "source": [
    "a[0] = 7"
   ]
  },
  {
   "cell_type": "code",
   "execution_count": 26,
   "id": "45cced35-bee8-4a0c-8777-4a7083ebcf70",
   "metadata": {},
   "outputs": [
    {
     "data": {
      "text/plain": [
       "[7, 2, 3, 4, 5]"
      ]
     },
     "execution_count": 26,
     "metadata": {},
     "output_type": "execute_result"
    }
   ],
   "source": [
    "a"
   ]
  },
  {
   "cell_type": "code",
   "execution_count": 27,
   "id": "fb03b702-98fd-4afa-9bb6-6ac42f8d71c3",
   "metadata": {},
   "outputs": [
    {
     "ename": "TypeError",
     "evalue": "'tuple' object does not support item assignment",
     "output_type": "error",
     "traceback": [
      "\u001b[0;31m---------------------------------------------------------------------------\u001b[0m",
      "\u001b[0;31mTypeError\u001b[0m                                 Traceback (most recent call last)",
      "Cell \u001b[0;32mIn[27], line 1\u001b[0m\n\u001b[0;32m----> 1\u001b[0m \u001b[43mb\u001b[49m\u001b[43m[\u001b[49m\u001b[38;5;241;43m0\u001b[39;49m\u001b[43m]\u001b[49m \u001b[38;5;241m=\u001b[39m \u001b[38;5;241m7\u001b[39m\n\u001b[1;32m      2\u001b[0m b\n",
      "\u001b[0;31mTypeError\u001b[0m: 'tuple' object does not support item assignment"
     ]
    }
   ],
   "source": [
    "b[0] = 7\n",
    "b"
   ]
  },
  {
   "cell_type": "raw",
   "id": "00ceefd2-dcc2-4a53-9a84-12eb8148511f",
   "metadata": {},
   "source": [
    "List: Used when you need a collection of items that can change over time (i.e., you need to add, modify, or delete elements).\n",
    "Tuple: Used for fixed collections of items, such as coordinates (x, y), RGB values (red, green, blue), or when you want to ensure that the data remains constant throughout the program."
   ]
  },
  {
   "cell_type": "raw",
   "id": "e33f6c7b-aaca-41e3-b918-c9c692811609",
   "metadata": {},
   "source": [
    "List: Provides more built-in methods (append(), extend(), insert(), remove(), pop(), clear(), etc.) for modifying the list.\n",
    "Tuple: Provides limited methods (count(), index()) since it is immutable."
   ]
  },
  {
   "cell_type": "raw",
   "id": "b47c2a76-4793-42be-b8bd-792db0cc247c",
   "metadata": {},
   "source": [
    "List: Cannot be used as dictionary keys because lists are mutable and not hashable.\n",
    "Tuple: Can be used as dictionary keys because tuples are immutable and hashable."
   ]
  },
  {
   "cell_type": "code",
   "execution_count": 28,
   "id": "a273c292-fe96-4645-b89f-a9e861bc62ed",
   "metadata": {},
   "outputs": [
    {
     "name": "stdout",
     "output_type": "stream",
     "text": [
      "Dictionary with tuple keys: {(10, 20): 'Point A', (30, 40): 'Point B'}\n"
     ]
    }
   ],
   "source": [
    "# Using a tuple as a dictionary key\n",
    "location = {(10, 20): \"Point A\", (30, 40): \"Point B\"}\n",
    "print(\"Dictionary with tuple keys:\", location)\n"
   ]
  },
  {
   "cell_type": "code",
   "execution_count": 29,
   "id": "a804c8b6-eb36-42a3-9202-98a58779f3dd",
   "metadata": {},
   "outputs": [
    {
     "ename": "TypeError",
     "evalue": "unhashable type: 'list'",
     "output_type": "error",
     "traceback": [
      "\u001b[0;31m---------------------------------------------------------------------------\u001b[0m",
      "\u001b[0;31mTypeError\u001b[0m                                 Traceback (most recent call last)",
      "Cell \u001b[0;32mIn[29], line 2\u001b[0m\n\u001b[1;32m      1\u001b[0m \u001b[38;5;66;03m# Using a list as a dictionary key\u001b[39;00m\n\u001b[0;32m----> 2\u001b[0m keys \u001b[38;5;241m=\u001b[39m {[\u001b[38;5;241m1\u001b[39m, \u001b[38;5;241m2\u001b[39m]: \u001b[38;5;124m\"\u001b[39m\u001b[38;5;124ma\u001b[39m\u001b[38;5;124m\"\u001b[39m, [\u001b[38;5;241m3\u001b[39m, \u001b[38;5;241m4\u001b[39m]: \u001b[38;5;124m\"\u001b[39m\u001b[38;5;124mb\u001b[39m\u001b[38;5;124m\"\u001b[39m} \n",
      "\u001b[0;31mTypeError\u001b[0m: unhashable type: 'list'"
     ]
    }
   ],
   "source": [
    "# Using a list as a dictionary key\n",
    "keys = {[1, 2]: \"a\", [3, 4]: \"b\"} "
   ]
  },
  {
   "cell_type": "code",
   "execution_count": null,
   "id": "8bfe9a84-ef8d-4727-9261-7ad4f38721f4",
   "metadata": {},
   "outputs": [],
   "source": []
  }
 ],
 "metadata": {
  "kernelspec": {
   "display_name": "Python 3 (ipykernel)",
   "language": "python",
   "name": "python3"
  },
  "language_info": {
   "codemirror_mode": {
    "name": "ipython",
    "version": 3
   },
   "file_extension": ".py",
   "mimetype": "text/x-python",
   "name": "python",
   "nbconvert_exporter": "python",
   "pygments_lexer": "ipython3",
   "version": "3.10.8"
  }
 },
 "nbformat": 4,
 "nbformat_minor": 5
}
